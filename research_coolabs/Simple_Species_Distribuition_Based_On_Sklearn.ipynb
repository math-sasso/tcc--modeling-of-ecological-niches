{
 "cells": [
  {
   "cell_type": "markdown",
   "metadata": {
    "id": "5222yVkXi6xX"
   },
   "source": [
    "# Modelagem de distribuição de espécies utilizando a técnica MaxEntropy"
   ]
  },
  {
   "cell_type": "markdown",
   "metadata": {
    "id": "hr3bgbQ2i2xe"
   },
   "source": [
    "## Instalações"
   ]
  },
  {
   "cell_type": "code",
   "execution_count": 2,
   "metadata": {
    "colab": {
     "base_uri": "https://localhost:8080/",
     "height": 82
    },
    "executionInfo": {
     "elapsed": 14415,
     "status": "ok",
     "timestamp": 1601851194351,
     "user": {
      "displayName": "Matheus Gustavo Alves Sasso",
      "photoUrl": "https://lh3.googleusercontent.com/a-/AOh14Gh3hBAk_xyvoNPG1oRcGua6jw923vKztFHNgbSr=s64",
      "userId": "12802130788492198743"
     },
     "user_tz": 180
    },
    "id": "aE-kksE7ibSQ",
    "outputId": "584730d7-6fa1-4b54-d629-ff6cd0c6c966"
   },
   "outputs": [],
   "source": [
    "# ! pip install geopandas --quiet\n",
    "# ! pip install rasterio --quiet\n",
    "# ! pip install earthpy --quiet"
   ]
  },
  {
   "cell_type": "markdown",
   "metadata": {
    "id": "TFzNeANCjGYv"
   },
   "source": [
    "## Imports"
   ]
  },
  {
   "cell_type": "code",
   "execution_count": 3,
   "metadata": {
    "colab": {
     "base_uri": "https://localhost:8080/",
     "height": 33
    },
    "executionInfo": {
     "elapsed": 17152,
     "status": "ok",
     "timestamp": 1601830035644,
     "user": {
      "displayName": "Matheus Gustavo Alves Sasso",
      "photoUrl": "https://lh3.googleusercontent.com/a-/AOh14Gh3hBAk_xyvoNPG1oRcGua6jw923vKztFHNgbSr=s64",
      "userId": "12802130788492198743"
     },
     "user_tz": 180
    },
    "id": "-_feoOVmjF3I",
    "outputId": "c49844fb-5919-46d3-caa1-6d937a18f1e4"
   },
   "outputs": [
    {
     "name": "stdout",
     "output_type": "stream",
     "text": [
      "Automatically created module for IPython interactive environment\n"
     ]
    }
   ],
   "source": [
    "from time import time\n",
    "\n",
    "import numpy as np\n",
    "import matplotlib.pyplot as plt\n",
    "\n",
    "from sklearn.utils import Bunch\n",
    "from sklearn.datasets import fetch_species_distributions\n",
    "from sklearn import svm, metrics\n",
    "\n",
    "# if basemap is available, we'll use it.\n",
    "# otherwise, we'll improvise later...\n",
    "try:\n",
    "    from mpl_toolkits.basemap import Basemap\n",
    "    basemap = True\n",
    "except ImportError:\n",
    "    basemap = False\n",
    "\n",
    "print(__doc__)"
   ]
  },
  {
   "cell_type": "markdown",
   "metadata": {
    "id": "OrvwtKSpk3w6"
   },
   "source": [
    "## Getting Environmental Variables"
   ]
  },
  {
   "cell_type": "code",
   "execution_count": 4,
   "metadata": {
    "id": "gFNzbiBIXCkI"
   },
   "outputs": [],
   "source": [
    "import numpy as np\n",
    "from osgeo import gdal_array\n",
    "import os"
   ]
  },
  {
   "cell_type": "markdown",
   "metadata": {
    "id": "xQX1bIX-WkI-"
   },
   "source": [
    "Diretorio base para salvar numpy arrays dos rasters"
   ]
  },
  {
   "cell_type": "code",
   "execution_count": 5,
   "metadata": {
    "id": "HPitB0uEWonw"
   },
   "outputs": [],
   "source": [
    "base_np_rasters_dir = 'C:/Users/mathe/Documents/Projeto TCC/tcc-ecological-niches-modeling/data/Rasters_As_Numpy_Arrays'"
   ]
  },
  {
   "cell_type": "markdown",
   "metadata": {
    "id": "JIAZimI-ZJeG"
   },
   "source": [
    "### Envirem"
   ]
  },
  {
   "cell_type": "markdown",
   "metadata": {
    "id": "G9sKYFcqVrVt"
   },
   "source": [
    "criando dicionario de rasters convertidos em numpy arrays"
   ]
  },
  {
   "cell_type": "code",
   "execution_count": null,
   "metadata": {},
   "outputs": [
    {
     "name": "stdout",
     "output_type": "stream",
     "text": [
      "['current_30arcsec_annualPET.tif', 'current_30arcsec_aridityIndexThornthwaite.tif', 'current_30arcsec_climaticMoistureIndex.tif', 'current_30arcsec_continentality.tif', 'current_30arcsec_embergerQ.tif', 'current_30arcsec_growingDegDays0.tif', 'current_30arcsec_growingDegDays5.tif', 'current_30arcsec_maxTempColdest.tif', 'current_30arcsec_minTempWarmest.tif', 'current_30arcsec_monthCountByTemp10.tif', 'current_30arcsec_PETColdestQuarter.tif', 'current_30arcsec_PETDriestQuarter.tif', 'current_30arcsec_PETseasonality.tif', 'current_30arcsec_PETWarmestQuarter.tif', 'current_30arcsec_PETWettestQuarter.tif', 'current_30arcsec_thermicityIndex.tif', 'current_30arcsec_topoWet.tif', 'current_30arcsec_tri.tif']\n"
     ]
    }
   ],
   "source": [
    "root_envirem_dir = r'C:\\Users\\mathe\\Documents\\Projeto TCC\\tcc-ecological-niches-modeling\\data\\Rasters\\Envirem_variables'\n",
    "rasters = {}\n",
    "for (dirpath, dirnames, filenames) in os.walk(root_envirem_dir):\n",
    "    print(filenames)\n",
    "    for filename in filenames:\n",
    "        if '.tif' in filename:\n",
    "            filepath = os.path.join(root_envirem_dir, filename)\n",
    "            rasterArray = gdal_array.LoadFile(filepath)\n",
    "            rasters[filename] = rasterArray\n",
    "    break"
   ]
  },
  {
   "cell_type": "code",
   "execution_count": null,
   "metadata": {
    "colab": {
     "base_uri": "https://localhost:8080/",
     "height": 175
    },
    "executionInfo": {
     "elapsed": 12786,
     "status": "error",
     "timestamp": 1601829896433,
     "user": {
      "displayName": "Matheus Gustavo Alves Sasso",
      "photoUrl": "https://lh3.googleusercontent.com/a-/AOh14Gh3hBAk_xyvoNPG1oRcGua6jw923vKztFHNgbSr=s64",
      "userId": "12802130788492198743"
     },
     "user_tz": 180
    },
    "id": "e53D0V6UfK4b",
    "outputId": "87d9a92c-9005-4131-92fd-701a286e364b"
   },
   "outputs": [],
   "source": [
    "envirem_variables = np.stack([value for value in rasters.values()])\n",
    "envirem_variables.shape"
   ]
  },
  {
   "cell_type": "markdown",
   "metadata": {
    "id": "8_sb7U1OVvVv"
   },
   "source": [
    "Empilhando rasters"
   ]
  },
  {
   "cell_type": "markdown",
   "metadata": {
    "id": "DDrnvT1mVzc8"
   },
   "source": [
    "Salvando os numpy arrays em arquivos externos no formato .npy"
   ]
  },
  {
   "cell_type": "code",
   "execution_count": null,
   "metadata": {
    "id": "CS_jpH5gVkIQ"
   },
   "outputs": [],
   "source": [
    "with open(base_np_rasters_dir+'/envirem.npy', 'wb') as f:\n",
    "    np.save(f, envirem_variables)"
   ]
  },
  {
   "cell_type": "markdown",
   "metadata": {
    "id": "9cbxtIooWELe"
   },
   "source": [
    "Recuperando rasters dos arquivos numpy"
   ]
  },
  {
   "cell_type": "code",
   "execution_count": 13,
   "metadata": {
    "colab": {
     "base_uri": "https://localhost:8080/",
     "height": 33
    },
    "executionInfo": {
     "elapsed": 79273,
     "status": "ok",
     "timestamp": 1601830103672,
     "user": {
      "displayName": "Matheus Gustavo Alves Sasso",
      "photoUrl": "https://lh3.googleusercontent.com/a-/AOh14Gh3hBAk_xyvoNPG1oRcGua6jw923vKztFHNgbSr=s64",
      "userId": "12802130788492198743"
     },
     "user_tz": 180
    },
    "id": "EeN6mW9XWDvC",
    "outputId": "c9185f42-7902-43cb-e2aa-47ff92bab859"
   },
   "outputs": [
    {
     "ename": "FileNotFoundError",
     "evalue": "[Errno 2] No such file or directory: 'C://Users//mathe//Documents//Projeto TCC//tcc-ecological-niches-modeling//dataRasters_As_Numpy_Arrays//envirem.npy'",
     "output_type": "error",
     "traceback": [
      "\u001b[1;31m---------------------------------------------------------------------------\u001b[0m",
      "\u001b[1;31mFileNotFoundError\u001b[0m                         Traceback (most recent call last)",
      "\u001b[1;32m<ipython-input-13-d8df72e85d40>\u001b[0m in \u001b[0;36m<module>\u001b[1;34m\u001b[0m\n\u001b[1;32m----> 1\u001b[1;33m \u001b[1;32mwith\u001b[0m \u001b[0mopen\u001b[0m\u001b[1;33m(\u001b[0m\u001b[0mbase_np_rasters_dir\u001b[0m\u001b[1;33m+\u001b[0m\u001b[1;34m'//envirem.npy'\u001b[0m\u001b[1;33m,\u001b[0m \u001b[1;34m'rb'\u001b[0m\u001b[1;33m)\u001b[0m \u001b[1;32mas\u001b[0m \u001b[0mf\u001b[0m\u001b[1;33m:\u001b[0m\u001b[1;33m\u001b[0m\u001b[1;33m\u001b[0m\u001b[0m\n\u001b[0m\u001b[0;32m      2\u001b[0m     \u001b[0menvirem_variables\u001b[0m \u001b[1;33m=\u001b[0m \u001b[0mnp\u001b[0m\u001b[1;33m.\u001b[0m\u001b[0mload\u001b[0m\u001b[1;33m(\u001b[0m\u001b[0mf\u001b[0m\u001b[1;33m)\u001b[0m\u001b[1;33m\u001b[0m\u001b[1;33m\u001b[0m\u001b[0m\n\u001b[0;32m      3\u001b[0m \u001b[0menvirem_variables\u001b[0m\u001b[1;33m.\u001b[0m\u001b[0mshape\u001b[0m\u001b[1;33m\u001b[0m\u001b[1;33m\u001b[0m\u001b[0m\n",
      "\u001b[1;31mFileNotFoundError\u001b[0m: [Errno 2] No such file or directory: 'C://Users//mathe//Documents//Projeto TCC//tcc-ecological-niches-modeling//dataRasters_As_Numpy_Arrays//envirem.npy'"
     ]
    }
   ],
   "source": [
    "with open(base_np_rasters_dir+'/envirem.npy', 'rb') as f:\n",
    "    envirem_variables = np.load(f)\n",
    "envirem_variables.shape"
   ]
  },
  {
   "cell_type": "markdown",
   "metadata": {
    "id": "RJtCRwCFoiNr"
   },
   "source": [
    "## Recuperando informações do raster com GDAL e Rasterio"
   ]
  },
  {
   "cell_type": "code",
   "execution_count": null,
   "metadata": {
    "id": "Fdfki6CAqRtx"
   },
   "outputs": [],
   "source": [
    "fp_raster_teste = '/content/drive/My Drive/TFC_MatheusSasso/Data/Rasters/Envirem_Rasters/SAmerica_current_30arcsec_geotiff_set2/current_30arcsec_embergerQ.tif'"
   ]
  },
  {
   "cell_type": "markdown",
   "metadata": {
    "id": "SDUz5qiupkO8"
   },
   "source": [
    "### GDAL"
   ]
  },
  {
   "cell_type": "code",
   "execution_count": null,
   "metadata": {
    "id": "F6BXLhYsowBf"
   },
   "outputs": [],
   "source": [
    "from osgeo import gdal\n",
    "def get_raster_info_gdal(path):\n",
    "    raster = gdal.Open(path)\n",
    "    raster_infos_dict = {}\n",
    "    raster_size_infos = raster.GetGeoTransform()\n",
    "\n",
    "    Nx = raster.RasterXSize\n",
    "    Ny = raster.RasterYSize\n",
    "    grid_x = abs(raster_size_infos[1])\n",
    "    grid_y = abs(raster_size_infos[5])\n",
    "\n",
    "    raster_infos_dict['array'] = raster.ReadAsArray()\n",
    "    raster_infos_dict['x_left_top_corner'] = raster_size_infos[0]\n",
    "    raster_infos_dict['y_left_top_corner'] = raster_size_infos[3]\n",
    "    raster_infos_dict['xmin'] = raster_size_infos[0]\n",
    "    raster_infos_dict['xmax'] = raster_size_infos[0] + Nx*grid_x\n",
    "    raster_infos_dict['ymin'] = raster_size_infos[3] - Ny*grid_y\n",
    "    raster_infos_dict['ymax'] = raster_size_infos[3]\n",
    "    raster_infos_dict['pixel_width'] = grid_x\n",
    "    raster_infos_dict['pixel_height'] = grid_y\n",
    "    raster_infos_dict['rotation_factor1'] = raster_size_infos[2]\n",
    "    raster_infos_dict['rotation_factor2'] = raster_size_infos[4]\n",
    "    raster_infos_dict['Nx'] = Nx\n",
    "    raster_infos_dict['Ny'] = Ny\n",
    "    return raster_infos_dict\n"
   ]
  },
  {
   "cell_type": "code",
   "execution_count": null,
   "metadata": {
    "id": "OdszV5wcpUYn"
   },
   "outputs": [],
   "source": [
    "raster_infos_dict = get_raster_info_gdal(fp_raster_teste)\n",
    "raster_infos_dict"
   ]
  },
  {
   "cell_type": "markdown",
   "metadata": {
    "id": "MD5zTNiGpmTD"
   },
   "source": [
    "### Rasteio\n"
   ]
  },
  {
   "cell_type": "code",
   "execution_count": null,
   "metadata": {
    "colab": {
     "base_uri": "https://localhost:8080/",
     "height": 285
    },
    "executionInfo": {
     "elapsed": 7766,
     "status": "ok",
     "timestamp": 1601817505818,
     "user": {
      "displayName": "Matheus Gustavo Alves Sasso",
      "photoUrl": "https://lh3.googleusercontent.com/a-/AOh14Gh3hBAk_xyvoNPG1oRcGua6jw923vKztFHNgbSr=s64",
      "userId": "12802130788492198743"
     },
     "user_tz": 180
    },
    "id": "Zkq1bIYSqGjd",
    "outputId": "017fba91-cf82-4dff-8ea6-0ca653edf7af"
   },
   "outputs": [
    {
     "data": {
      "image/png": "[encoded data removed]",
      "text/plain": [
       "<Figure size 432x288 with 1 Axes>"
      ]
     },
     "metadata": {
      "needs_background": "light",
      "tags": []
     },
     "output_type": "display_data"
    },
    {
     "data": {
      "text/plain": [
       "<matplotlib.axes._subplots.AxesSubplot at 0x7fcd589cebe0>"
      ]
     },
     "execution_count": 62,
     "metadata": {
      "tags": []
     },
     "output_type": "execute_result"
    }
   ],
   "source": [
    "import rasterio\n",
    "from rasterio.plot import show\n",
    "raster = rasterio.open(fp_raster_teste)\n",
    "show((raster, 1))"
   ]
  },
  {
   "cell_type": "code",
   "execution_count": null,
   "metadata": {
    "id": "MoYVHH8OrrBc"
   },
   "outputs": [],
   "source": [
    "import rasterio\n",
    "def get_raster_info_raster(path):\n",
    "    raster = rasterio.open(path)\n",
    "    raster_infos_dict = {}\n",
    "    raster_infos_dict['array'] = raster.read(1)\n",
    "    raster_infos_dict['x_left_top_corner'] = raster.meta['transform'][2]\n",
    "    raster_infos_dict['y_left_top_corner'] = raster.meta['transform'][5]\n",
    "    raster_infos_dict['xmin'] = raster.bounds[0]\n",
    "    raster_infos_dict['xmax'] = raster.bounds[2]\n",
    "    raster_infos_dict['ymin'] = raster.bounds[1]\n",
    "    raster_infos_dict['ymax'] = raster.bounds[3]\n",
    "    raster_infos_dict['pixel_width'] = abs(raster.meta['transform'][0])\n",
    "    raster_infos_dict['pixel_height'] = abs(raster.meta['transform'][4])\n",
    "    raster_infos_dict['rotation_factor1'] = raster.meta['transform'][1]\n",
    "    raster_infos_dict['rotation_factor2'] = raster.meta['transform'][3]\n",
    "    raster_infos_dict['no_data_vals'] = raster.meta['nodata']\n",
    "    raster_infos_dict['crs'] = raster.crs\n",
    "    raster_infos_dict['Nx'] = raster.width\n",
    "    raster_infos_dict['Ny'] = raster.height\n",
    "    return raster_infos_dict"
   ]
  },
  {
   "cell_type": "code",
   "execution_count": null,
   "metadata": {
    "colab": {
     "base_uri": "https://localhost:8080/",
     "height": 375
    },
    "executionInfo": {
     "elapsed": 4916,
     "status": "ok",
     "timestamp": 1601830144755,
     "user": {
      "displayName": "Matheus Gustavo Alves Sasso",
      "photoUrl": "https://lh3.googleusercontent.com/a-/AOh14Gh3hBAk_xyvoNPG1oRcGua6jw923vKztFHNgbSr=s64",
      "userId": "12802130788492198743"
     },
     "user_tz": 180
    },
    "id": "uqVHiF2LxlzZ",
    "outputId": "2bfe8dc7-5d43-4327-c2fc-71576aa9159d"
   },
   "outputs": [
    {
     "data": {
      "text/plain": [
       "{'Nx': 7894,\n",
       " 'Ny': 9549,\n",
       " 'array': array([[-9999., -9999., -9999., ..., -9999., -9999., -9999.],\n",
       "        [-9999., -9999., -9999., ..., -9999., -9999., -9999.],\n",
       "        [-9999., -9999., -9999., ..., -9999., -9999., -9999.],\n",
       "        ...,\n",
       "        [-9999., -9999., -9999., ..., -9999., -9999., -9999.],\n",
       "        [-9999., -9999., -9999., ..., -9999., -9999., -9999.],\n",
       "        [-9999., -9999., -9999., ..., -9999., -9999., -9999.]],\n",
       "       dtype=float32),\n",
       " 'crs': CRS.from_epsg(4326),\n",
       " 'no_data_vals': -9999.0,\n",
       " 'pixel_height': 0.008333333333333333,\n",
       " 'pixel_width': 0.00833333333333334,\n",
       " 'rotation_factor1': 0.0,\n",
       " 'rotation_factor2': 0.0,\n",
       " 'x_left_top_corner': -92.0166666666667,\n",
       " 'xmax': -26.233333333333306,\n",
       " 'xmin': -92.0166666666667,\n",
       " 'y_left_top_corner': 20.0916666666667,\n",
       " 'ymax': 20.0916666666667,\n",
       " 'ymin': -59.483333333333306}"
      ]
     },
     "execution_count": 9,
     "metadata": {
      "tags": []
     },
     "output_type": "execute_result"
    }
   ],
   "source": [
    "raster_infos_dict = get_raster_info_raster(fp_raster_teste)\n",
    "raster_infos_dict"
   ]
  },
  {
   "cell_type": "markdown",
   "metadata": {
    "id": "s8BlRNBglB76"
   },
   "source": [
    "## Getting Occurrence Coordinates"
   ]
  },
  {
   "cell_type": "code",
   "execution_count": null,
   "metadata": {
    "id": "5lOcH6eqk2Bt"
   },
   "outputs": [],
   "source": [
    "import geopandas as gpd\n",
    "specie_dir = '/content/drive/My Drive/TFC_MatheusSasso/Data/GBIF_Ocurrences/Leucaena_Leucocephala_(lam)_De_Wit_2970418/Leucaena_Leucocephala_(lam)_De_Wit_2970418.shp'\n",
    "data = gpd.read_file(specie_dir)"
   ]
  },
  {
   "cell_type": "code",
   "execution_count": null,
   "metadata": {
    "colab": {
     "base_uri": "https://localhost:8080/",
     "height": 33
    },
    "executionInfo": {
     "elapsed": 474,
     "status": "ok",
     "timestamp": 1601827562367,
     "user": {
      "displayName": "Matheus Gustavo Alves Sasso",
      "photoUrl": "https://lh3.googleusercontent.com/a-/AOh14Gh3hBAk_xyvoNPG1oRcGua6jw923vKztFHNgbSr=s64",
      "userId": "12802130788492198743"
     },
     "user_tz": 180
    },
    "id": "5ixyarlkXKf2",
    "outputId": "4884df60-08ef-4ba9-d0d1-971e2959022b"
   },
   "outputs": [
    {
     "name": "stdout",
     "output_type": "stream",
     "text": [
      "None\n"
     ]
    }
   ],
   "source": [
    "print(data.crs)"
   ]
  },
  {
   "cell_type": "code",
   "execution_count": null,
   "metadata": {
    "colab": {
     "base_uri": "https://localhost:8080/",
     "height": 98
    },
    "executionInfo": {
     "elapsed": 496,
     "status": "ok",
     "timestamp": 1601830146884,
     "user": {
      "displayName": "Matheus Gustavo Alves Sasso",
      "photoUrl": "https://lh3.googleusercontent.com/a-/AOh14Gh3hBAk_xyvoNPG1oRcGua6jw923vKztFHNgbSr=s64",
      "userId": "12802130788492198743"
     },
     "user_tz": 180
    },
    "id": "A5VY3OFhhsw6",
    "outputId": "4b4b31e0-293a-4a89-f50e-9d97946ebbee"
   },
   "outputs": [
    {
     "data": {
      "text/plain": [
       "array([[ -9.755569, -36.663958],\n",
       "       [ -9.562747, -35.763344],\n",
       "       [ -4.898333, -65.355556],\n",
       "       [ -4.898333, -65.355614],\n",
       "       [ -4.860833, -65.334722]])"
      ]
     },
     "execution_count": 11,
     "metadata": {
      "tags": []
     },
     "output_type": "execute_result"
    }
   ],
   "source": [
    "coordinates = np.array((np.array(data['LATITUDE']),np.array(data['LONGITUDE']))).T\n",
    "coordinates[:5]"
   ]
  },
  {
   "cell_type": "code",
   "execution_count": null,
   "metadata": {
    "id": "ZqeOfjvi5o_7"
   },
   "outputs": [],
   "source": [
    "from sklearn.model_selection import train_test_split\n",
    "coordinates_train, coordinates_test, _, _ = train_test_split(coordinates,coordinates, test_size=0.2, random_state=42)"
   ]
  },
  {
   "cell_type": "markdown",
   "metadata": {
    "id": "z4XczoAti1Le"
   },
   "source": [
    "## Building Grids"
   ]
  },
  {
   "cell_type": "code",
   "execution_count": null,
   "metadata": {
    "id": "G_0MbO8Hi3KB"
   },
   "outputs": [],
   "source": [
    "def construct_grids(batch,verbose=False):\n",
    "    \"\"\"Construct the map grid from the batch object\n",
    "\n",
    "    Parameters\n",
    "    ----------\n",
    "    batch : Batch object\n",
    "        The object returned by :func:`fetch_species_distributions`\n",
    "\n",
    "    Returns\n",
    "    -------\n",
    "    (xgrid, ygrid) : 1-D arrays\n",
    "        The grid corresponding to the values in batch.coverages\n",
    "    \"\"\"\n",
    "  \n",
    "    # x coordinates of the grid cells\n",
    "    xgrid = np.arange(batch['xmin'], batch['xmax'], batch['pixel_width'])\n",
    "    # y coordinates of the grid cells\n",
    "    ygrid = np.arange(batch['ymin'], batch['ymax'], batch['pixel_height'])\n",
    "\n",
    "    if verbose:\n",
    "      print('xgrid shape: ',xgrid.shape)    \n",
    "      print('xgrid: ',xgrid)    \n",
    "      print('ygrid shape: ',ygrid.shape)    \n",
    "      print('ygrid: ',ygrid)    \n",
    "\n",
    "    return (xgrid, ygrid)"
   ]
  },
  {
   "cell_type": "code",
   "execution_count": null,
   "metadata": {
    "colab": {
     "base_uri": "https://localhost:8080/",
     "height": 115
    },
    "executionInfo": {
     "elapsed": 2653,
     "status": "ok",
     "timestamp": 1601820603969,
     "user": {
      "displayName": "Matheus Gustavo Alves Sasso",
      "photoUrl": "https://lh3.googleusercontent.com/a-/AOh14Gh3hBAk_xyvoNPG1oRcGua6jw923vKztFHNgbSr=s64",
      "userId": "12802130788492198743"
     },
     "user_tz": 180
    },
    "id": "Z5-vK8bNjDdC",
    "outputId": "cfbbab3e-64a2-4ca6-e58e-ab9dc292330d"
   },
   "outputs": [
    {
     "name": "stdout",
     "output_type": "stream",
     "text": [
      "xgrid shape:  (7894,)\n",
      "xgrid:  [-92.01666667 -92.00833333 -92.         ... -26.25833333 -26.25\n",
      " -26.24166667]\n",
      "ygrid shape:  (9549,)\n",
      "ygrid:  [-59.48333333 -59.475      -59.46666667 ...  20.06666667  20.075\n",
      "  20.08333333]\n"
     ]
    }
   ],
   "source": [
    "(xgrid, ygrid) = construct_grids(raster_infos_dict,verbose=True)\n"
   ]
  },
  {
   "cell_type": "code",
   "execution_count": null,
   "metadata": {
    "id": "P2GQyLByz342"
   },
   "outputs": [],
   "source": [
    "# The grid in x,y coordinates\n",
    "#X, Y = np.meshgrid(xgrid, ygrid[::-1])\n",
    "#X, Y, X.shape, Y.shape"
   ]
  },
  {
   "cell_type": "markdown",
   "metadata": {
    "id": "WyMrPSQbyvx0"
   },
   "source": [
    "## Creating Species Bunch"
   ]
  },
  {
   "cell_type": "code",
   "execution_count": null,
   "metadata": {
    "id": "1KFSW0zeyz9s"
   },
   "outputs": [],
   "source": [
    "def create_species_bunch(species_name, train, test, environment_data, xgrid, ygrid):\n",
    "    \"\"\"Create a bunch with information about a particular organism\n",
    "\n",
    "    This will use the test/train record arrays to extract the\n",
    "    data specific to the given species name.\n",
    "    \"\"\"\n",
    "\n",
    "    \n",
    "    bunch = Bunch(name=species_name)\n",
    "    points = dict(test=test, train=train)\n",
    "\n",
    "    for label, pts in points.items():\n",
    "        # choose points associated with the desired species\n",
    "        bunch['pts_%s' % label] = pts\n",
    "\n",
    "        # determine coverage values for each of the training & testing points\n",
    "        Long = pts[:,1]\n",
    "        Lat = pts[:,0]\n",
    "        ix = np.searchsorted(xgrid,Long)\n",
    "        iy = np.searchsorted(ygrid,Lat)\n",
    "\n",
    "        #selecting the env value on the occurrence position\n",
    "        bunch['cov_%s' % label] = environment_data[:, -iy, ix].T\n",
    "\n",
    "    return bunch"
   ]
  },
  {
   "cell_type": "markdown",
   "metadata": {
    "id": "eCNj7C5m_mhd"
   },
   "source": [
    "**VERIFICAR MATCH DO CRS!!!**"
   ]
  },
  {
   "cell_type": "code",
   "execution_count": null,
   "metadata": {
    "id": "pGjjUXRf6Qf0"
   },
   "outputs": [],
   "source": [
    "species = create_species_bunch('Leucaena_Leucocephala_(lam)_De_Wit',coordinates_train, coordinates_test,envirem_variables, xgrid, ygrid)"
   ]
  },
  {
   "cell_type": "code",
   "execution_count": null,
   "metadata": {
    "colab": {
     "base_uri": "https://localhost:8080/",
     "height": 50
    },
    "executionInfo": {
     "elapsed": 642,
     "status": "ok",
     "timestamp": 1601828075037,
     "user": {
      "displayName": "Matheus Gustavo Alves Sasso",
      "photoUrl": "https://lh3.googleusercontent.com/a-/AOh14Gh3hBAk_xyvoNPG1oRcGua6jw923vKztFHNgbSr=s64",
      "userId": "12802130788492198743"
     },
     "user_tz": 180
    },
    "id": "L_-EQ4DLY2SW",
    "outputId": "eb78b984-45f4-43f5-918e-e81f48d84728"
   },
   "outputs": [
    {
     "data": {
      "text/plain": [
       "((2, 10000), array([[2357, 8734, 1333, ..., 8482, 5795, 7924],\n",
       "        [3933, 4033, 2497, ..., 5149, 6438, 1978]]))"
      ]
     },
     "execution_count": 31,
     "metadata": {
      "tags": []
     },
     "output_type": "execute_result"
    }
   ],
   "source": [
    "background_points = np.c_[np.random.randint(low=0, high=raster_infos_dict['Ny'],size=10000),np.random.randint(low=0, high=raster_infos_dict['Nx'], size=10000)].T\n",
    "background_points.shape,background_points"
   ]
  },
  {
   "cell_type": "code",
   "execution_count": null,
   "metadata": {
    "colab": {
     "base_uri": "https://localhost:8080/",
     "height": 33
    },
    "executionInfo": {
     "elapsed": 1361,
     "status": "ok",
     "timestamp": 1601828537842,
     "user": {
      "displayName": "Matheus Gustavo Alves Sasso",
      "photoUrl": "https://lh3.googleusercontent.com/a-/AOh14Gh3hBAk_xyvoNPG1oRcGua6jw923vKztFHNgbSr=s64",
      "userId": "12802130788492198743"
     },
     "user_tz": 180
    },
    "id": "8_Zca5PPa51d",
    "outputId": "38552fde-6ccb-4539-c433-905069390af8"
   },
   "outputs": [
    {
     "data": {
      "text/plain": [
       "(9549, 7894)"
      ]
     },
     "execution_count": 33,
     "metadata": {
      "tags": []
     },
     "output_type": "execute_result"
    }
   ],
   "source": [
    "envirem_variables[0]"
   ]
  },
  {
   "cell_type": "markdown",
   "metadata": {
    "id": "6mvJdduThjGG"
   },
   "source": [
    "## One Class SVM Fit"
   ]
  },
  {
   "cell_type": "code",
   "execution_count": null,
   "metadata": {
    "id": "NA0r9pCChjQm"
   },
   "outputs": [],
   "source": [
    "def fit_species_locations(species):\n",
    "    \n",
    "    # Fit, predict, and plot for each species.\n",
    "    print(\"_\" * 80)\n",
    "    print(\"Modeling distribution of species '%s'\" % species.name)\n",
    "\n",
    "    # Standardize features\n",
    "    mean = species.cov_train.mean(axis=0)\n",
    "    std = species.cov_train.std(axis=0)\n",
    "    train_cover_std = (species.cov_train - mean) / std\n",
    "\n",
    "    # Fit OneClassSVM\n",
    "    print(\" - fit OneClassSVM ... \", end='')\n",
    "    clf = svm.OneClassSVM(nu=0.1, kernel=\"rbf\", gamma=0.5)\n",
    "    clf.fit(train_cover_std)\n",
    "    print(\"done.\")\n",
    "\n",
    "    return clf, mean, std "
   ]
  },
  {
   "cell_type": "markdown",
   "metadata": {
    "id": "XgENelX1hjZS"
   },
   "source": [
    "## One Class SVM Predict"
   ]
  },
  {
   "cell_type": "code",
   "execution_count": null,
   "metadata": {
    "id": "ijeZ66MbhjhU"
   },
   "outputs": [],
   "source": [
    "def predict_species_locations(raster_infos_dict,land_reference,envirem_variables,clf,mean,std):\n",
    "    \n",
    "    print(\" - predict species distribution\")\n",
    "    # Predict species distribution using the training data\n",
    "    Z = np.ones((raster_infos_dict['Ny'], raster_infos_dict['Nx']), dtype=np.float64)\n",
    "\n",
    "    # We'll predict only for the land points.\n",
    "    idx = np.where(land_reference > -9999)\n",
    "    coverages_land = envirem_variables[:, idx[0], idx[1]].T\n",
    "\n",
    "    pred = clf.decision_function((coverages_land - mean) / std)\n",
    "    \n",
    "    #pass all values to minimum\n",
    "    Z *= pred.min()\n",
    "\n",
    "    Z[idx[0], idx[1]] = pred\n",
    "\n",
    "    levels = np.linspace(Z.min(), Z.max(), 50)\n",
    "    Z[land_reference == -9999] = -9999\n",
    "\n",
    "    return Z"
   ]
  },
  {
   "cell_type": "markdown",
   "metadata": {
    "id": "g2S4VWk0hwvb"
   },
   "source": [
    "## Plots"
   ]
  },
  {
   "cell_type": "code",
   "execution_count": null,
   "metadata": {
    "id": "j3wfM9nBhw2t"
   },
   "outputs": [],
   "source": [
    "def plot_species_distribution(xgrid,ygrid,land_reference,species,Z,background_points,clf):\n",
    "    # The grid in x,y coordinates\n",
    "    X, Y = np.meshgrid(xgrid, ygrid[::-1])\n",
    "\n",
    "    #  plot coastlines from coverage\"\n",
    "    print(\" - plot coastlines from coverage\")\n",
    "    plt.contour(X, Y, land_reference, levels=[-9998], colors=\"k\", linestyles=\"solid\")\n",
    "    plt.xticks([])\n",
    "    plt.yticks([])\n",
    "\n",
    "    # plot contours of the prediction\n",
    "    plt.contourf(X, Y, Z, levels=levels, cmap=plt.cm.Reds)\n",
    "    plt.colorbar(format='%.2f')\n",
    "\n",
    "    # scatter training/testing points\n",
    "    plt.scatter(species['pts_train'][:,1], species['pts_train'][:,0],s=2 ** 2, c='black', marker='^', label='train')\n",
    "    plt.scatter(species['pts_test'][:,1], species['pts_test'][:,0], s=2 ** 2, c='black',  marker='x', label='test')\n",
    "    plt.legend()\n",
    "    plt.title(species.name)\n",
    "    plt.axis('equal')\n",
    "    \n",
    "    # Compute AUC with regards to background points\n",
    "    pred_background = Z[background_points[0], background_points[1]]\n",
    "    pred_test = clf.decision_function((species.cov_test - mean) / std)\n",
    "    scores = np.r_[pred_test, pred_background]\n",
    "    y = np.r_[np.ones(pred_test.shape), np.zeros(pred_background.shape)]\n",
    "    fpr, tpr, thresholds = metrics.roc_curve(y, scores)\n",
    "    roc_auc = metrics.auc(fpr, tpr)\n",
    "    plt.text(-35, -70, \"AUC: %.3f\" % roc_auc, ha=\"right\")\n",
    "    print(\"\\n Area under the ROC curve : %f\" % roc_auc)\n",
    "\n",
    "    \n"
   ]
  },
  {
   "cell_type": "markdown",
   "metadata": {
    "id": "o3VUUzRZinfa"
   },
   "source": [
    "## Model Species Distribution"
   ]
  },
  {
   "cell_type": "code",
   "execution_count": null,
   "metadata": {
    "id": "I7kKCg6pivX_"
   },
   "outputs": [],
   "source": [
    "def create_species_distribution(species_name,envirem_variables,raster_infos_dict,coordinates):\n",
    "    \"\"\"\n",
    "    Plot the species distribution.\n",
    "    \"\"\"\n",
    "    # splitting coordinates in train and test\n",
    "    coordinates_train, coordinates_test, _, _ = train_test_split(coordinates,coordinates, test_size=0.2, random_state=42)\n",
    "\n",
    "    # Set up the data grid\n",
    "    xgrid, ygrid = construct_grids(raster_infos_dict)\n",
    "\n",
    "    species = create_species_bunch(species_name,coordinates_train, coordinates_test,envirem_variables, xgrid, ygrid)\n",
    "\n",
    "    # background points (grid coordinates) for evaluation\n",
    "    # these are aleatory points just to go on ROC curve\n",
    "    np.random.seed(13)\n",
    "    background_points = np.c_[np.random.randint(low=0, high=raster_infos_dict['Ny'],size=10000),np.random.randint(low=0, high=raster_infos_dict['Nx'], size=10000)].T\n",
    "\n",
    "    #This will help us decide between land and water.\n",
    "    land_reference = envirem_variables[5] #-> Tenho que ter um raster da região vazia\n",
    "\n",
    "    #Training\n",
    "    clf, mean, std = fit_species_locations(species)\n",
    "\n",
    "    #Inference   \n",
    "    Z = predict_species_locations(raster_infos_dict,land_reference,envirem_variables,clf,mean,std)\n",
    "\n",
    "    import pdb;dbp.set_trace()\n",
    "\n",
    "    # The grid in x,y coordinates\n",
    "    X, Y = np.meshgrid(xgrid, ygrid[::-1])\n",
    "\n",
    "    #  plot coastlines from coverage\"\n",
    "    print(\" - plot coastlines from coverage\")\n",
    "    plt.contour(X, Y, land_reference, levels=[-9998], colors=\"k\", linestyles=\"solid\")\n",
    "    plt.xticks([])\n",
    "    plt.yticks([])\n",
    "\n",
    "    # plot contours of the prediction\n",
    "    plt.contourf(X, Y, Z, levels=levels, cmap=plt.cm.Reds)\n",
    "    plt.colorbar(format='%.2f')\n",
    "\n",
    "    # scatter training/testing points\n",
    "    plt.scatter(species['pts_train'][:,1], species['pts_train'][:,0],s=2 ** 2, c='black', marker='^', label='train')\n",
    "    plt.scatter(species['pts_test'][:,1], species['pts_test'][:,0], s=2 ** 2, c='black',  marker='x', label='test')\n",
    "    plt.legend()\n",
    "    plt.title(species.name)\n",
    "    plt.axis('equal')\n",
    "    \n",
    "    # Compute AUC with regards to background points\n",
    "    pred_background = Z[background_points[0], background_points[1]]\n",
    "    pred_test = clf.decision_function((species.cov_test - mean) / std)\n",
    "    scores = np.r_[pred_test, pred_background]\n",
    "    y = np.r_[np.ones(pred_test.shape), np.zeros(pred_background.shape)]\n",
    "    fpr, tpr, thresholds = metrics.roc_curve(y, scores)\n",
    "    roc_auc = metrics.auc(fpr, tpr)\n",
    "    plt.text(-35, -70, \"AUC: %.3f\" % roc_auc, ha=\"right\")\n",
    "    print(\"\\n Area under the ROC curve : %f\" % roc_auc)\n",
    "\n"
   ]
  },
  {
   "cell_type": "markdown",
   "metadata": {
    "id": "qVb06GXmYvT2"
   },
   "source": [
    "## Teste junto\n"
   ]
  },
  {
   "cell_type": "code",
   "execution_count": null,
   "metadata": {
    "id": "D273puot4fxO"
   },
   "outputs": [],
   "source": [
    "from sklearn.model_selection import train_test_split\n",
    "def plot_species_distribution(species_name,envirem_variables,raster_infos_dict,coordinates):\n",
    "    \"\"\"\n",
    "    Plot the species distribution.\n",
    "    \"\"\"\n",
    "\n",
    "    t0 = time()\n",
    "\n",
    "    # splitting coordinates in train and test\n",
    "    \n",
    "    coordinates_train, coordinates_test, _, _ = train_test_split(coordinates,coordinates, test_size=0.2, random_state=42)\n",
    "\n",
    "    # Set up the data grid\n",
    "    xgrid, ygrid = construct_grids(raster_infos_dict)\n",
    "\n",
    "    # The grid in x,y coordinates\n",
    "    X, Y = np.meshgrid(xgrid, ygrid[::-1])\n",
    "\n",
    "    species = create_species_bunch(species_name,coordinates_train, coordinates_test,envirem_variables, xgrid, ygrid)\n",
    "\n",
    "    # background points (grid coordinates) for evaluation\n",
    "    # these are aleatory points just to go on ROC curve\n",
    "    np.random.seed(13)\n",
    "    background_points = np.c_[np.random.randint(low=0, high=raster_infos_dict['Ny'],size=10000),np.random.randint(low=0, high=raster_infos_dict['Nx'], size=10000)].T\n",
    "\n",
    "    #This will help us decide between land and water.\n",
    "    land_reference = envirem_variables[5] #-> Tenho que ter um raster da região vazia\n",
    "\n",
    "    # Fit, predict, and plot for each species.\n",
    "    print(\"_\" * 80)\n",
    "    print(\"Modeling distribution of species '%s'\" % species.name)\n",
    "\n",
    "    # Standardize features\n",
    "    mean = species.cov_train.mean(axis=0)\n",
    "    std = species.cov_train.std(axis=0)\n",
    "    train_cover_std = (species.cov_train - mean) / std\n",
    "\n",
    "    # Fit OneClassSVM\n",
    "    print(\" - fit OneClassSVM ... \", end='')\n",
    "    clf = svm.OneClassSVM(nu=0.1, kernel=\"rbf\", gamma=0.5)\n",
    "    clf.fit(train_cover_std)\n",
    "    print(\"done.\")\n",
    "  \n",
    "    print(\" - plot coastlines from coverage\")\n",
    "    plt.contour(X, Y, land_reference, levels=[-9998], colors=\"k\", linestyles=\"solid\")\n",
    "    plt.xticks([])\n",
    "    plt.yticks([])\n",
    "\n",
    "    print(\" - predict species distribution\")\n",
    "    # Predict species distribution using the training data\n",
    "    Z = np.ones((raster_infos_dict['Ny'], raster_infos_dict['Nx']), dtype=np.float64)\n",
    "\n",
    "    # We'll predict only for the land points.\n",
    "    idx = np.where(land_reference > -9999)\n",
    "    coverages_land = envirem_variables[:, idx[0], idx[1]].T\n",
    "\n",
    "    pred = clf.decision_function((coverages_land - mean) / std)\n",
    "    \n",
    "    #pass all values to minimum\n",
    "    Z *= pred.min()\n",
    "\n",
    "    Z[idx[0], idx[1]] = pred\n",
    "\n",
    "    levels = np.linspace(Z.min(), Z.max(), 50)\n",
    "    Z[land_reference == -9999] = -9999\n",
    "\n",
    "    # plot contours of the prediction\n",
    "    plt.contourf(X, Y, Z, levels=levels, cmap=plt.cm.Reds)\n",
    "    plt.colorbar(format='%.2f')\n",
    "\n",
    "    # scatter training/testing points\n",
    "    plt.scatter(species['pts_train'][:,1], species['pts_train'][:,0],s=2 ** 2, c='black', marker='^', label='train')\n",
    "    plt.scatter(species['pts_test'][:,1], species['pts_test'][:,0], s=2 ** 2, c='black',  marker='x', label='test')\n",
    "    plt.legend()\n",
    "    plt.title(species.name)\n",
    "    plt.axis('equal')\n",
    "    \n",
    "    # Compute AUC with regards to background points\n",
    "    pred_background = Z[background_points[0], background_points[1]]\n",
    "    pred_test = clf.decision_function((species.cov_test - mean) / std)\n",
    "    scores = np.r_[pred_test, pred_background]\n",
    "    y = np.r_[np.ones(pred_test.shape), np.zeros(pred_background.shape)]\n",
    "    fpr, tpr, thresholds = metrics.roc_curve(y, scores)\n",
    "    roc_auc = metrics.auc(fpr, tpr)\n",
    "    plt.text(-35, -70, \"AUC: %.3f\" % roc_auc, ha=\"right\")\n",
    "    print(\"\\n Area under the ROC curve : %f\" % roc_auc)\n",
    "\n",
    "    print(\"\\ntime elapsed: %.2fs\" % (time() - t0))"
   ]
  },
  {
   "cell_type": "code",
   "execution_count": null,
   "metadata": {
    "colab": {
     "base_uri": "https://localhost:8080/",
     "height": 98
    },
    "id": "BFzo2lPnfAWV",
    "outputId": "debe4abb-979d-41ee-c931-ee3879e0a229"
   },
   "outputs": [
    {
     "name": "stdout",
     "output_type": "stream",
     "text": [
      "________________________________________________________________________________\n",
      "Modeling distribution of species 'Leucaena_Leucocephala_(lam)_De_Wit'\n",
      " - fit OneClassSVM ... done.\n",
      " - plot coastlines from coverage\n",
      " - predict species distribution\n"
     ]
    }
   ],
   "source": [
    "plot_species_distribution('Leucaena_Leucocephala_(lam)_De_Wit',envirem_variables,raster_infos_dict,coordinates)"
   ]
  }
 ],
 "metadata": {
  "colab": {
   "authorship_tag": "ABX9TyMof0aOXjHaVUkVoEAnfto1",
   "mount_file_id": "14bIxzilWn5osJzMleFHqWImKdjJhUh-6",
   "name": "Simple_Species_Distribuition_Based_On_Sklearn.ipynb",
   "provenance": []
  },
  "kernelspec": {
   "display_name": "Python 3",
   "language": "python",
   "name": "python3"
  },
  "language_info": {
   "codemirror_mode": {
    "name": "ipython",
    "version": 3
   },
   "file_extension": ".py",
   "mimetype": "text/x-python",
   "name": "python",
   "nbconvert_exporter": "python",
   "pygments_lexer": "ipython3",
   "version": "3.8.3"
  }
 },
 "nbformat": 4,
 "nbformat_minor": 1
}
